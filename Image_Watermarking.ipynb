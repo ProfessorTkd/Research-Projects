{
  "nbformat": 4,
  "nbformat_minor": 0,
  "metadata": {
    "colab": {
      "provenance": [],
      "include_colab_link": true
    },
    "kernelspec": {
      "display_name": "Python 3",
      "name": "python3"
    }
  },
  "cells": [
    {
      "cell_type": "markdown",
      "metadata": {
        "id": "view-in-github",
        "colab_type": "text"
      },
      "source": [
        "<a href=\"https://colab.research.google.com/github/ProfessorTkd/Research-Projects/blob/main/Image_Watermarking.ipynb\" target=\"_parent\"><img src=\"https://colab.research.google.com/assets/colab-badge.svg\" alt=\"Open In Colab\"/></a>"
      ]
    },
    {
      "cell_type": "markdown",
      "metadata": {
        "id": "VBlhf4LxvsH8"
      },
      "source": [
        "In this project, we will see how we can add a watermark to an image. Adding a watermark works as a copyright for your image, so that no one can illegally use your image or document. We will use OpenCV for this project to add logo and text as a watermark."
      ]
    },
    {
      "cell_type": "code",
      "metadata": {
        "id": "xgM3uKsrvp6L"
      },
      "source": [
        "# Important library imports\n",
        "import cv2\n",
        "import numpy as np\n",
        "import requests\n",
        "from PIL import Image"
      ],
      "execution_count": 1,
      "outputs": []
    },
    {
      "cell_type": "markdown",
      "metadata": {
        "id": "4cvjLYhvq8WA"
      },
      "source": [
        "We will start by importing required libraries like OpenCV for image processing, numpy for mathematical computation, etc."
      ]
    },
    {
      "cell_type": "code",
      "metadata": {
        "id": "VFr_tb6Ryw9R",
        "colab": {
          "base_uri": "https://localhost:8080/",
          "height": 317
        },
        "outputId": "433e9650-1cbf-49ad-8626-e1764afc6422"
      },
      "source": [
        "# Reading image form url\n",
        "image = Image.open(requests.get('https://media.sproutsocial.com/uploads/2017/02/10x-featured-social-media-image-size.png', stream=True).raw)\n",
        "image_logow = image.resize((500,300))\n",
        "image_textw = image.resize((500,300))\n",
        "image_logow"
      ],
      "execution_count": 2,
      "outputs": [
        {
          "output_type": "execute_result",
          "data": {
            "text/plain": [
              "<PIL.Image.Image image mode=RGB size=500x300 at 0x7F0E2C4747F0>"
            ],
            "image/png": "[encoded data removed]"
          },
          "metadata": {},
          "execution_count": 2
        }
      ]
    },
    {
      "cell_type": "markdown",
      "metadata": {
        "id": "xtISsTOwrPsK"
      },
      "source": [
        "For this project we need an image url on which we will apply watermark. We will load the image using the url of the image from google images. You can use any image that you desire and replace the url of the image with current url. Next we will read and resize the image and finally store it into two variables for logo and text watermarking."
      ]
    },
    {
      "cell_type": "code",
      "metadata": {
        "id": "1Gap6ecd1SJO"
      },
      "source": [
        "# Reading logo form url\n",
        "logo = Image.open(requests.get('https://drive.google.com/file/d/1JX5-1ZHbuNCtHxec3t_oPD15WBahoDHF/view?usp=share_link, stream=True).raw)\n",
        "logo"
      ],
      "execution_count": null,
      "outputs": []
    },
    {
      "cell_type": "code",
      "metadata": {
        "id": "01o6pwi43quX"
      },
      "source": [
        "image_logow = np.array(image_logow.convert('RGB'))\n",
        "h_image, w_image, _ = image_logow.shape\n",
        "logo = np.array(logo.convert('RGB'))\n",
        "h_logo, w_logo, _ = logo.shape"
      ],
      "execution_count": null,
      "outputs": []
    },
    {
      "cell_type": "markdown",
      "metadata": {
        "id": "ADldE9gFuQRR"
      },
      "source": [
        "In order to use these images we will first convert them into rbg format and store it as a numpy array. Similarly, we will also extract the shape i.e. it's height and width. "
      ]
    },
    {
      "cell_type": "code",
      "metadata": {
        "id": "xkd3LdtG49xP"
      },
      "source": [
        "# Get the center of the original. It's the location where we will place the watermark\n",
        "center_y = int(h_image / 2)\n",
        "center_x = int(w_image / 2)\n",
        "top_y = center_y - int(h_logo / 2)\n",
        "left_x = center_x - int(w_logo / 2)\n",
        "bottom_y = top_y + h_logo\n",
        "right_x = left_x + w_logo"
      ],
      "execution_count": null,
      "outputs": []
    },
    {
      "cell_type": "markdown",
      "metadata": {
        "id": "k5Mra59pvJJ3"
      },
      "source": [
        "We will place our watermark in the center of the image so for that we need to calculate the center of the image. Here, we will find out the center coordinates of the image using height and width of the image. "
      ]
    },
    {
      "cell_type": "code",
      "metadata": {
        "id": "qAR3LGie2nTY"
      },
      "source": [
        "# Get ROI\n",
        "roi = image_logow[top_y: bottom_y, left_x: right_x]\n",
        "# Add the Logo to the Roi\n",
        "result = cv2.addWeighted(roi, 1, logo, 1, 0)\n",
        "# Drawing\n",
        "cv2.line(image_logow, (0, center_y), (left_x, center_y), (0, 0, 255), 1)\n",
        "cv2.line(image_logow, (right_x, center_y), (w_image, center_y), (0, 0, 255), 1)\n",
        "# Replace the ROI on the image\n",
        "image_logow[top_y: bottom_y, left_x: right_x] = result"
      ],
      "execution_count": null,
      "outputs": []
    },
    {
      "cell_type": "markdown",
      "metadata": {
        "id": "UEKmKAg-wLea"
      },
      "source": [
        "A Region of Interest defined as the area we need to place our watermark on. Here, we will find out ROI using the coordinates we found above. Next we will use OpenCV to merge our logo on ROI. Similarly we will also add a line or a pattern on our image."
      ]
    },
    {
      "cell_type": "code",
      "metadata": {
        "id": "fgDosRDX3n6h"
      },
      "source": [
        "# Ploting logo watermark image\n",
        "img = Image.fromarray(image_logow, 'RGB')\n",
        "img"
      ],
      "execution_count": null,
      "outputs": []
    },
    {
      "cell_type": "markdown",
      "metadata": {
        "id": "ZpM7pocuyI7u"
      },
      "source": [
        "Now we will convert the image from array to RGB and visualize it."
      ]
    },
    {
      "cell_type": "code",
      "metadata": {
        "id": "xcc51X3leKM2"
      },
      "source": [
        "# Text Watermark\n",
        "image_text = np.array(image_textw.convert('RGB'))\n",
        "cv2.putText(image_text, text='Pianalytix', org=(w_image - 95, h_image - 10), fontFace=cv2.FONT_HERSHEY_COMPLEX, fontScale=0.5,\n",
        "            color=(0,0,255), thickness=2, lineType=cv2.LINE_4); "
      ],
      "execution_count": null,
      "outputs": []
    },
    {
      "cell_type": "markdown",
      "metadata": {
        "id": "a3joTfitywSl"
      },
      "source": [
        "Next we shall see how we can use a text as a watermark. We will convert our image into RGB and save it as a numpy array. To put a text as a watermark we will be using putText() function of OpenCV. Here we can use different features like size of the text, thickness of the text, font family, etc."
      ]
    },
    {
      "cell_type": "code",
      "metadata": {
        "id": "7m9cXRZlgn4N"
      },
      "source": [
        "# Plotting text watermark image\n",
        "timg = Image.fromarray(image_text, 'RGB')\n",
        "timg"
      ],
      "execution_count": null,
      "outputs": []
    },
    {
      "cell_type": "markdown",
      "metadata": {
        "id": "sTrPkkcnzzpf"
      },
      "source": [
        "To visualize the image we need to convert it back to RGB format."
      ]
    },
    {
      "cell_type": "markdown",
      "metadata": {
        "id": "4Jkxj9DIz_4q"
      },
      "source": [
        "## Conclusion:"
      ]
    },
    {
      "cell_type": "markdown",
      "metadata": {
        "id": "eVepNN93z__6"
      },
      "source": [
        "Adding a watermark to an image works as a copyright. Different organizations can use it to make their content secure so that their content cannot be misused without thier license or a paid version. In this project we saw how easily we can use OpenCV to add watermarks to our images. "
      ]
    },
    {
      "cell_type": "code",
      "metadata": {
        "id": "twLHbP_wkeXS"
      },
      "source": [],
      "execution_count": null,
      "outputs": []
    }
  ]
}